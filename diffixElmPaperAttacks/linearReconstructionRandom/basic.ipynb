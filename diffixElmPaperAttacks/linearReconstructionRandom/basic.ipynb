{
 "metadata": {
  "language_info": {
   "codemirror_mode": {
    "name": "ipython",
    "version": 3
   },
   "file_extension": ".py",
   "mimetype": "text/x-python",
   "name": "python",
   "nbconvert_exporter": "python",
   "pygments_lexer": "ipython3",
   "version": "3.9.7"
  },
  "orig_nbformat": 2,
  "kernelspec": {
   "name": "python3",
   "display_name": "Python 3.9.7 64-bit"
  },
  "interpreter": {
   "hash": "3b1646eb9017c5e26238e0abb391791658fd293a20cba6d931f7c7baaf69f190"
  }
 },
 "nbformat": 4,
 "nbformat_minor": 2,
 "cells": [
  {
   "cell_type": "markdown",
   "source": [
    "# Linear Reconstruction Attack on LCF and Noise\n",
    "# Part I: Simple Constraints\n",
    "\n",
    "This notebook looks at the effectiveness of a simple linear reconstruction attack on Low Count Filtering (LCF) and noise addition (Gaussian). Other notebooks may look at more sophisticated attacks. The formulation of the constraints of the LP problem is described in Appendix A at the bottom of this notebook. Appendix B contains a description of the experimental variables.\n",
    "\n",
    "First gather the data."
   ],
   "metadata": {}
  },
  {
   "cell_type": "code",
   "execution_count": 1,
   "source": [
    "import numpy as np\r\n",
    "import matplotlib.pyplot as plt\r\n",
    "import seaborn as sns\r\n",
    "from IPython.display import display\r\n",
    "import sys\r\n",
    "stdout = sys.stdout\r\n",
    "import os\r\n",
    "filePath = globals()['_dh'][0]\r\n",
    "parDir = os.path.abspath(os.path.join(filePath, os.pardir))\r\n",
    "print(parDir)\r\n",
    "sys.path.append(parDir)\r\n",
    "import tools.results\r\n",
    "\r\n",
    "rg = tools.results.resultGatherer(attackType='random')\r\n",
    "dfAll,dfAgg = rg.gatherResults()\r\n"
   ],
   "outputs": [
    {
     "output_type": "stream",
     "name": "stdout",
     "text": [
      "c:\\paul\\GitHub\\attacker\\diffixElmPaperAttacks\n"
     ]
    }
   ],
   "metadata": {}
  },
  {
   "cell_type": "markdown",
   "source": [
    "First let's look at the first few rows of data. Columns starting with `a_` are the anonymization paramaters. Those with `t_` are the table parameters, and with `v_` are the solver parameters. Those with `s_` are the solution results. Appendix B contains a description of the experimental parameters and results."
   ],
   "metadata": {}
  },
  {
   "cell_type": "code",
   "execution_count": 2,
   "source": [
    "\r\n",
    "display(dfAll.head())"
   ],
   "outputs": [
    {
     "output_type": "display_data",
     "data": {
      "text/html": [
       "<div>\n",
       "<style scoped>\n",
       "    .dataframe tbody tr th:only-of-type {\n",
       "        vertical-align: middle;\n",
       "    }\n",
       "\n",
       "    .dataframe tbody tr th {\n",
       "        vertical-align: top;\n",
       "    }\n",
       "\n",
       "    .dataframe thead th {\n",
       "        text-align: right;\n",
       "    }\n",
       "</style>\n",
       "<table border=\"1\" class=\"dataframe\">\n",
       "  <thead>\n",
       "    <tr style=\"text-align: right;\">\n",
       "      <th></th>\n",
       "      <th>seed</th>\n",
       "      <th>s_cr</th>\n",
       "      <th>s_c</th>\n",
       "      <th>s_ci</th>\n",
       "      <th>s_tim</th>\n",
       "      <th>s_choi</th>\n",
       "      <th>s_cons</th>\n",
       "      <th>s_sol</th>\n",
       "      <th>a_gap</th>\n",
       "      <th>a_lab</th>\n",
       "      <th>...</th>\n",
       "      <th>a_sds</th>\n",
       "      <th>a_sd</th>\n",
       "      <th>v_lcf</th>\n",
       "      <th>v_nse</th>\n",
       "      <th>v_nsds</th>\n",
       "      <th>t_alen</th>\n",
       "      <th>t_atkr</th>\n",
       "      <th>t_aids</th>\n",
       "      <th>t_sym</th>\n",
       "      <th>t_freq</th>\n",
       "    </tr>\n",
       "  </thead>\n",
       "  <tbody>\n",
       "    <tr>\n",
       "      <th>0</th>\n",
       "      <td>000</td>\n",
       "      <td>0.0</td>\n",
       "      <td>0.0</td>\n",
       "      <td>0.000000</td>\n",
       "      <td>0.40</td>\n",
       "      <td>200</td>\n",
       "      <td>1455</td>\n",
       "      <td>1</td>\n",
       "      <td>2</td>\n",
       "      <td>P</td>\n",
       "      <td>...</td>\n",
       "      <td>1.0</td>\n",
       "      <td>1.0607</td>\n",
       "      <td>1.0</td>\n",
       "      <td>1.0</td>\n",
       "      <td>4.0</td>\n",
       "      <td>120</td>\n",
       "      <td>trusted</td>\n",
       "      <td>100</td>\n",
       "      <td>2</td>\n",
       "      <td>0.1</td>\n",
       "    </tr>\n",
       "    <tr>\n",
       "      <th>1</th>\n",
       "      <td>000</td>\n",
       "      <td>0.0</td>\n",
       "      <td>0.0</td>\n",
       "      <td>0.000000</td>\n",
       "      <td>0.31</td>\n",
       "      <td>200</td>\n",
       "      <td>1459</td>\n",
       "      <td>1</td>\n",
       "      <td>2</td>\n",
       "      <td>P</td>\n",
       "      <td>...</td>\n",
       "      <td>1.0</td>\n",
       "      <td>1.0607</td>\n",
       "      <td>1.0</td>\n",
       "      <td>1.0</td>\n",
       "      <td>5.0</td>\n",
       "      <td>120</td>\n",
       "      <td>trusted</td>\n",
       "      <td>100</td>\n",
       "      <td>2</td>\n",
       "      <td>0.1</td>\n",
       "    </tr>\n",
       "    <tr>\n",
       "      <th>2</th>\n",
       "      <td>000</td>\n",
       "      <td>1.0</td>\n",
       "      <td>0.5</td>\n",
       "      <td>0.444444</td>\n",
       "      <td>0.35</td>\n",
       "      <td>200</td>\n",
       "      <td>1259</td>\n",
       "      <td>1</td>\n",
       "      <td>2</td>\n",
       "      <td>P</td>\n",
       "      <td>...</td>\n",
       "      <td>1.0</td>\n",
       "      <td>1.0607</td>\n",
       "      <td>1.0</td>\n",
       "      <td>1.0</td>\n",
       "      <td>4.0</td>\n",
       "      <td>120</td>\n",
       "      <td>trusted</td>\n",
       "      <td>100</td>\n",
       "      <td>2</td>\n",
       "      <td>0.1</td>\n",
       "    </tr>\n",
       "    <tr>\n",
       "      <th>3</th>\n",
       "      <td>000</td>\n",
       "      <td>1.0</td>\n",
       "      <td>0.4</td>\n",
       "      <td>0.333333</td>\n",
       "      <td>0.32</td>\n",
       "      <td>200</td>\n",
       "      <td>1059</td>\n",
       "      <td>1</td>\n",
       "      <td>2</td>\n",
       "      <td>P</td>\n",
       "      <td>...</td>\n",
       "      <td>1.0</td>\n",
       "      <td>1.0607</td>\n",
       "      <td>1.0</td>\n",
       "      <td>1.0</td>\n",
       "      <td>4.0</td>\n",
       "      <td>120</td>\n",
       "      <td>trusted</td>\n",
       "      <td>100</td>\n",
       "      <td>2</td>\n",
       "      <td>0.1</td>\n",
       "    </tr>\n",
       "    <tr>\n",
       "      <th>4</th>\n",
       "      <td>000</td>\n",
       "      <td>0.0</td>\n",
       "      <td>0.0</td>\n",
       "      <td>0.000000</td>\n",
       "      <td>0.32</td>\n",
       "      <td>200</td>\n",
       "      <td>1455</td>\n",
       "      <td>1</td>\n",
       "      <td>3</td>\n",
       "      <td>XP</td>\n",
       "      <td>...</td>\n",
       "      <td>1.5</td>\n",
       "      <td>1.5910</td>\n",
       "      <td>1.0</td>\n",
       "      <td>1.0</td>\n",
       "      <td>4.0</td>\n",
       "      <td>120</td>\n",
       "      <td>trusted</td>\n",
       "      <td>100</td>\n",
       "      <td>2</td>\n",
       "      <td>0.1</td>\n",
       "    </tr>\n",
       "  </tbody>\n",
       "</table>\n",
       "<p>5 rows × 22 columns</p>\n",
       "</div>"
      ],
      "text/plain": [
       "  seed  s_cr  s_c      s_ci  s_tim  s_choi  s_cons  s_sol  a_gap a_lab  ...  \\\n",
       "0  000   0.0  0.0  0.000000   0.40     200    1455      1      2     P  ...   \n",
       "1  000   0.0  0.0  0.000000   0.31     200    1459      1      2     P  ...   \n",
       "2  000   1.0  0.5  0.444444   0.35     200    1259      1      2     P  ...   \n",
       "3  000   1.0  0.4  0.333333   0.32     200    1059      1      2     P  ...   \n",
       "4  000   0.0  0.0  0.000000   0.32     200    1455      1      3    XP  ...   \n",
       "\n",
       "   a_sds    a_sd  v_lcf  v_nse  v_nsds  t_alen   t_atkr  t_aids t_sym  t_freq  \n",
       "0    1.0  1.0607    1.0    1.0     4.0     120  trusted     100     2     0.1  \n",
       "1    1.0  1.0607    1.0    1.0     5.0     120  trusted     100     2     0.1  \n",
       "2    1.0  1.0607    1.0    1.0     4.0     120  trusted     100     2     0.1  \n",
       "3    1.0  1.0607    1.0    1.0     4.0     120  trusted     100     2     0.1  \n",
       "4    1.5  1.5910    1.0    1.0     4.0     120  trusted     100     2     0.1  \n",
       "\n",
       "[5 rows x 22 columns]"
      ]
     },
     "metadata": {}
    }
   ],
   "metadata": {}
  },
  {
   "cell_type": "markdown",
   "source": [
    "Some of these columns are just statistics about the solver itself, so let's make a dataframe with just the columns related to anonymization."
   ],
   "metadata": {}
  },
  {
   "cell_type": "code",
   "execution_count": 3,
   "source": [
    "df = dfAll[['s_sol','s_c','s_cr','s_ci','a_lab','a_sd','a_pri','v_lcf','v_nse','v_nsds','t_sym','t_aids','t_alen','t_freq','t_atkr']]"
   ],
   "outputs": [],
   "metadata": {}
  },
  {
   "cell_type": "code",
   "execution_count": 4,
   "source": [
    "df.describe(include='all')"
   ],
   "outputs": [
    {
     "output_type": "execute_result",
     "data": {
      "text/html": [
       "<div>\n",
       "<style scoped>\n",
       "    .dataframe tbody tr th:only-of-type {\n",
       "        vertical-align: middle;\n",
       "    }\n",
       "\n",
       "    .dataframe tbody tr th {\n",
       "        vertical-align: top;\n",
       "    }\n",
       "\n",
       "    .dataframe thead th {\n",
       "        text-align: right;\n",
       "    }\n",
       "</style>\n",
       "<table border=\"1\" class=\"dataframe\">\n",
       "  <thead>\n",
       "    <tr style=\"text-align: right;\">\n",
       "      <th></th>\n",
       "      <th>s_sol</th>\n",
       "      <th>s_c</th>\n",
       "      <th>s_cr</th>\n",
       "      <th>s_ci</th>\n",
       "      <th>a_lab</th>\n",
       "      <th>a_sd</th>\n",
       "      <th>a_pri</th>\n",
       "      <th>v_lcf</th>\n",
       "      <th>v_nse</th>\n",
       "      <th>v_nsds</th>\n",
       "      <th>t_sym</th>\n",
       "      <th>t_aids</th>\n",
       "      <th>t_alen</th>\n",
       "      <th>t_freq</th>\n",
       "      <th>t_atkr</th>\n",
       "    </tr>\n",
       "  </thead>\n",
       "  <tbody>\n",
       "    <tr>\n",
       "      <th>count</th>\n",
       "      <td>5747.0</td>\n",
       "      <td>5747.000000</td>\n",
       "      <td>5747.000000</td>\n",
       "      <td>5747.000000</td>\n",
       "      <td>5747</td>\n",
       "      <td>5747.000000</td>\n",
       "      <td>5747</td>\n",
       "      <td>5747.0</td>\n",
       "      <td>5747.0</td>\n",
       "      <td>5747.000000</td>\n",
       "      <td>5747.000000</td>\n",
       "      <td>5747.000000</td>\n",
       "      <td>5747.000000</td>\n",
       "      <td>5747.000000</td>\n",
       "      <td>5747</td>\n",
       "    </tr>\n",
       "    <tr>\n",
       "      <th>unique</th>\n",
       "      <td>NaN</td>\n",
       "      <td>NaN</td>\n",
       "      <td>NaN</td>\n",
       "      <td>NaN</td>\n",
       "      <td>4</td>\n",
       "      <td>NaN</td>\n",
       "      <td>4</td>\n",
       "      <td>NaN</td>\n",
       "      <td>NaN</td>\n",
       "      <td>NaN</td>\n",
       "      <td>NaN</td>\n",
       "      <td>NaN</td>\n",
       "      <td>NaN</td>\n",
       "      <td>NaN</td>\n",
       "      <td>2</td>\n",
       "    </tr>\n",
       "    <tr>\n",
       "      <th>top</th>\n",
       "      <td>NaN</td>\n",
       "      <td>NaN</td>\n",
       "      <td>NaN</td>\n",
       "      <td>NaN</td>\n",
       "      <td>P</td>\n",
       "      <td>NaN</td>\n",
       "      <td>none</td>\n",
       "      <td>NaN</td>\n",
       "      <td>NaN</td>\n",
       "      <td>NaN</td>\n",
       "      <td>NaN</td>\n",
       "      <td>NaN</td>\n",
       "      <td>NaN</td>\n",
       "      <td>NaN</td>\n",
       "      <td>trusted</td>\n",
       "    </tr>\n",
       "    <tr>\n",
       "      <th>freq</th>\n",
       "      <td>NaN</td>\n",
       "      <td>NaN</td>\n",
       "      <td>NaN</td>\n",
       "      <td>NaN</td>\n",
       "      <td>1912</td>\n",
       "      <td>NaN</td>\n",
       "      <td>2291</td>\n",
       "      <td>NaN</td>\n",
       "      <td>NaN</td>\n",
       "      <td>NaN</td>\n",
       "      <td>NaN</td>\n",
       "      <td>NaN</td>\n",
       "      <td>NaN</td>\n",
       "      <td>NaN</td>\n",
       "      <td>2938</td>\n",
       "    </tr>\n",
       "    <tr>\n",
       "      <th>mean</th>\n",
       "      <td>1.0</td>\n",
       "      <td>0.329550</td>\n",
       "      <td>0.831390</td>\n",
       "      <td>0.107859</td>\n",
       "      <td>NaN</td>\n",
       "      <td>1.587955</td>\n",
       "      <td>NaN</td>\n",
       "      <td>1.0</td>\n",
       "      <td>1.0</td>\n",
       "      <td>3.316687</td>\n",
       "      <td>13.852793</td>\n",
       "      <td>134.057769</td>\n",
       "      <td>119.295284</td>\n",
       "      <td>0.304559</td>\n",
       "      <td>NaN</td>\n",
       "    </tr>\n",
       "    <tr>\n",
       "      <th>std</th>\n",
       "      <td>0.0</td>\n",
       "      <td>0.349000</td>\n",
       "      <td>0.374439</td>\n",
       "      <td>0.457278</td>\n",
       "      <td>NaN</td>\n",
       "      <td>0.438165</td>\n",
       "      <td>NaN</td>\n",
       "      <td>0.0</td>\n",
       "      <td>0.0</td>\n",
       "      <td>0.581599</td>\n",
       "      <td>12.852475</td>\n",
       "      <td>196.998966</td>\n",
       "      <td>13.904452</td>\n",
       "      <td>0.199965</td>\n",
       "      <td>NaN</td>\n",
       "    </tr>\n",
       "    <tr>\n",
       "      <th>min</th>\n",
       "      <td>1.0</td>\n",
       "      <td>0.000000</td>\n",
       "      <td>0.000000</td>\n",
       "      <td>-1.000000</td>\n",
       "      <td>NaN</td>\n",
       "      <td>0.000000</td>\n",
       "      <td>NaN</td>\n",
       "      <td>1.0</td>\n",
       "      <td>1.0</td>\n",
       "      <td>3.000000</td>\n",
       "      <td>2.000000</td>\n",
       "      <td>10.000000</td>\n",
       "      <td>15.000000</td>\n",
       "      <td>0.100000</td>\n",
       "      <td>NaN</td>\n",
       "    </tr>\n",
       "    <tr>\n",
       "      <th>25%</th>\n",
       "      <td>1.0</td>\n",
       "      <td>0.000000</td>\n",
       "      <td>1.000000</td>\n",
       "      <td>-0.036062</td>\n",
       "      <td>NaN</td>\n",
       "      <td>1.060700</td>\n",
       "      <td>NaN</td>\n",
       "      <td>1.0</td>\n",
       "      <td>1.0</td>\n",
       "      <td>3.000000</td>\n",
       "      <td>2.000000</td>\n",
       "      <td>10.000000</td>\n",
       "      <td>120.000000</td>\n",
       "      <td>0.100000</td>\n",
       "      <td>NaN</td>\n",
       "    </tr>\n",
       "    <tr>\n",
       "      <th>50%</th>\n",
       "      <td>1.0</td>\n",
       "      <td>0.175000</td>\n",
       "      <td>1.000000</td>\n",
       "      <td>0.000000</td>\n",
       "      <td>NaN</td>\n",
       "      <td>1.591000</td>\n",
       "      <td>NaN</td>\n",
       "      <td>1.0</td>\n",
       "      <td>1.0</td>\n",
       "      <td>3.000000</td>\n",
       "      <td>8.000000</td>\n",
       "      <td>50.000000</td>\n",
       "      <td>120.000000</td>\n",
       "      <td>0.500000</td>\n",
       "      <td>NaN</td>\n",
       "    </tr>\n",
       "    <tr>\n",
       "      <th>75%</th>\n",
       "      <td>1.0</td>\n",
       "      <td>0.571429</td>\n",
       "      <td>1.000000</td>\n",
       "      <td>0.259259</td>\n",
       "      <td>NaN</td>\n",
       "      <td>2.121300</td>\n",
       "      <td>NaN</td>\n",
       "      <td>1.0</td>\n",
       "      <td>1.0</td>\n",
       "      <td>4.000000</td>\n",
       "      <td>32.000000</td>\n",
       "      <td>100.000000</td>\n",
       "      <td>120.000000</td>\n",
       "      <td>0.500000</td>\n",
       "      <td>NaN</td>\n",
       "    </tr>\n",
       "    <tr>\n",
       "      <th>max</th>\n",
       "      <td>1.0</td>\n",
       "      <td>1.000000</td>\n",
       "      <td>1.000000</td>\n",
       "      <td>1.000000</td>\n",
       "      <td>NaN</td>\n",
       "      <td>2.121300</td>\n",
       "      <td>NaN</td>\n",
       "      <td>1.0</td>\n",
       "      <td>1.0</td>\n",
       "      <td>7.000000</td>\n",
       "      <td>32.000000</td>\n",
       "      <td>800.000000</td>\n",
       "      <td>240.000000</td>\n",
       "      <td>0.500000</td>\n",
       "      <td>NaN</td>\n",
       "    </tr>\n",
       "  </tbody>\n",
       "</table>\n",
       "</div>"
      ],
      "text/plain": [
       "         s_sol          s_c         s_cr         s_ci a_lab         a_sd  \\\n",
       "count   5747.0  5747.000000  5747.000000  5747.000000  5747  5747.000000   \n",
       "unique     NaN          NaN          NaN          NaN     4          NaN   \n",
       "top        NaN          NaN          NaN          NaN     P          NaN   \n",
       "freq       NaN          NaN          NaN          NaN  1912          NaN   \n",
       "mean       1.0     0.329550     0.831390     0.107859   NaN     1.587955   \n",
       "std        0.0     0.349000     0.374439     0.457278   NaN     0.438165   \n",
       "min        1.0     0.000000     0.000000    -1.000000   NaN     0.000000   \n",
       "25%        1.0     0.000000     1.000000    -0.036062   NaN     1.060700   \n",
       "50%        1.0     0.175000     1.000000     0.000000   NaN     1.591000   \n",
       "75%        1.0     0.571429     1.000000     0.259259   NaN     2.121300   \n",
       "max        1.0     1.000000     1.000000     1.000000   NaN     2.121300   \n",
       "\n",
       "       a_pri   v_lcf   v_nse       v_nsds        t_sym       t_aids  \\\n",
       "count   5747  5747.0  5747.0  5747.000000  5747.000000  5747.000000   \n",
       "unique     4     NaN     NaN          NaN          NaN          NaN   \n",
       "top     none     NaN     NaN          NaN          NaN          NaN   \n",
       "freq    2291     NaN     NaN          NaN          NaN          NaN   \n",
       "mean     NaN     1.0     1.0     3.316687    13.852793   134.057769   \n",
       "std      NaN     0.0     0.0     0.581599    12.852475   196.998966   \n",
       "min      NaN     1.0     1.0     3.000000     2.000000    10.000000   \n",
       "25%      NaN     1.0     1.0     3.000000     2.000000    10.000000   \n",
       "50%      NaN     1.0     1.0     3.000000     8.000000    50.000000   \n",
       "75%      NaN     1.0     1.0     4.000000    32.000000   100.000000   \n",
       "max      NaN     1.0     1.0     7.000000    32.000000   800.000000   \n",
       "\n",
       "             t_alen       t_freq   t_atkr  \n",
       "count   5747.000000  5747.000000     5747  \n",
       "unique          NaN          NaN        2  \n",
       "top             NaN          NaN  trusted  \n",
       "freq            NaN          NaN     2938  \n",
       "mean     119.295284     0.304559      NaN  \n",
       "std       13.904452     0.199965      NaN  \n",
       "min       15.000000     0.100000      NaN  \n",
       "25%      120.000000     0.100000      NaN  \n",
       "50%      120.000000     0.500000      NaN  \n",
       "75%      120.000000     0.500000      NaN  \n",
       "max      240.000000     0.500000      NaN  "
      ]
     },
     "metadata": {},
     "execution_count": 4
    }
   ],
   "metadata": {}
  },
  {
   "cell_type": "markdown",
   "source": [
    "## Validate perfect reconstruction\r\n",
    "\r\n",
    "There is a set of experiments with no anonymization at all that should have perfect reconstruction (`a_lab='None'`). This serves to partially validate the solver."
   ],
   "metadata": {}
  },
  {
   "cell_type": "code",
   "execution_count": 5,
   "source": [
    "dfPerfect = dfAll.query('a_lab == \"None\"')\r\n",
    "dfPerfect.describe()"
   ],
   "outputs": [
    {
     "output_type": "execute_result",
     "data": {
      "text/html": [
       "<div>\n",
       "<style scoped>\n",
       "    .dataframe tbody tr th:only-of-type {\n",
       "        vertical-align: middle;\n",
       "    }\n",
       "\n",
       "    .dataframe tbody tr th {\n",
       "        vertical-align: top;\n",
       "    }\n",
       "\n",
       "    .dataframe thead th {\n",
       "        text-align: right;\n",
       "    }\n",
       "</style>\n",
       "<table border=\"1\" class=\"dataframe\">\n",
       "  <thead>\n",
       "    <tr style=\"text-align: right;\">\n",
       "      <th></th>\n",
       "      <th>s_cr</th>\n",
       "      <th>s_c</th>\n",
       "      <th>s_ci</th>\n",
       "      <th>s_tim</th>\n",
       "      <th>s_choi</th>\n",
       "      <th>s_cons</th>\n",
       "      <th>s_sol</th>\n",
       "      <th>a_gap</th>\n",
       "      <th>a_low</th>\n",
       "      <th>a_sds</th>\n",
       "      <th>a_sd</th>\n",
       "      <th>v_lcf</th>\n",
       "      <th>v_nse</th>\n",
       "      <th>v_nsds</th>\n",
       "      <th>t_alen</th>\n",
       "      <th>t_aids</th>\n",
       "      <th>t_sym</th>\n",
       "      <th>t_freq</th>\n",
       "    </tr>\n",
       "  </thead>\n",
       "  <tbody>\n",
       "    <tr>\n",
       "      <th>count</th>\n",
       "      <td>11.0</td>\n",
       "      <td>11.0</td>\n",
       "      <td>11.0</td>\n",
       "      <td>11.00000</td>\n",
       "      <td>11.000000</td>\n",
       "      <td>11.000000</td>\n",
       "      <td>11.0</td>\n",
       "      <td>11.0</td>\n",
       "      <td>11.0</td>\n",
       "      <td>11.0</td>\n",
       "      <td>11.0</td>\n",
       "      <td>11.0</td>\n",
       "      <td>11.0</td>\n",
       "      <td>11.0</td>\n",
       "      <td>11.0</td>\n",
       "      <td>11.000000</td>\n",
       "      <td>11.000000</td>\n",
       "      <td>11.0</td>\n",
       "    </tr>\n",
       "    <tr>\n",
       "      <th>mean</th>\n",
       "      <td>1.0</td>\n",
       "      <td>1.0</td>\n",
       "      <td>1.0</td>\n",
       "      <td>0.68000</td>\n",
       "      <td>92.727273</td>\n",
       "      <td>698.818182</td>\n",
       "      <td>1.0</td>\n",
       "      <td>0.0</td>\n",
       "      <td>0.0</td>\n",
       "      <td>0.0</td>\n",
       "      <td>0.0</td>\n",
       "      <td>1.0</td>\n",
       "      <td>1.0</td>\n",
       "      <td>3.0</td>\n",
       "      <td>120.0</td>\n",
       "      <td>46.363636</td>\n",
       "      <td>2.545455</td>\n",
       "      <td>0.5</td>\n",
       "    </tr>\n",
       "    <tr>\n",
       "      <th>std</th>\n",
       "      <td>0.0</td>\n",
       "      <td>0.0</td>\n",
       "      <td>0.0</td>\n",
       "      <td>0.13914</td>\n",
       "      <td>24.120908</td>\n",
       "      <td>563.223192</td>\n",
       "      <td>0.0</td>\n",
       "      <td>0.0</td>\n",
       "      <td>0.0</td>\n",
       "      <td>0.0</td>\n",
       "      <td>0.0</td>\n",
       "      <td>0.0</td>\n",
       "      <td>0.0</td>\n",
       "      <td>0.0</td>\n",
       "      <td>0.0</td>\n",
       "      <td>12.060454</td>\n",
       "      <td>1.809068</td>\n",
       "      <td>0.0</td>\n",
       "    </tr>\n",
       "    <tr>\n",
       "      <th>min</th>\n",
       "      <td>1.0</td>\n",
       "      <td>1.0</td>\n",
       "      <td>1.0</td>\n",
       "      <td>0.46000</td>\n",
       "      <td>20.000000</td>\n",
       "      <td>529.000000</td>\n",
       "      <td>1.0</td>\n",
       "      <td>0.0</td>\n",
       "      <td>0.0</td>\n",
       "      <td>0.0</td>\n",
       "      <td>0.0</td>\n",
       "      <td>1.0</td>\n",
       "      <td>1.0</td>\n",
       "      <td>3.0</td>\n",
       "      <td>120.0</td>\n",
       "      <td>10.000000</td>\n",
       "      <td>2.000000</td>\n",
       "      <td>0.5</td>\n",
       "    </tr>\n",
       "    <tr>\n",
       "      <th>25%</th>\n",
       "      <td>1.0</td>\n",
       "      <td>1.0</td>\n",
       "      <td>1.0</td>\n",
       "      <td>0.60500</td>\n",
       "      <td>100.000000</td>\n",
       "      <td>529.000000</td>\n",
       "      <td>1.0</td>\n",
       "      <td>0.0</td>\n",
       "      <td>0.0</td>\n",
       "      <td>0.0</td>\n",
       "      <td>0.0</td>\n",
       "      <td>1.0</td>\n",
       "      <td>1.0</td>\n",
       "      <td>3.0</td>\n",
       "      <td>120.0</td>\n",
       "      <td>50.000000</td>\n",
       "      <td>2.000000</td>\n",
       "      <td>0.5</td>\n",
       "    </tr>\n",
       "    <tr>\n",
       "      <th>50%</th>\n",
       "      <td>1.0</td>\n",
       "      <td>1.0</td>\n",
       "      <td>1.0</td>\n",
       "      <td>0.66000</td>\n",
       "      <td>100.000000</td>\n",
       "      <td>529.000000</td>\n",
       "      <td>1.0</td>\n",
       "      <td>0.0</td>\n",
       "      <td>0.0</td>\n",
       "      <td>0.0</td>\n",
       "      <td>0.0</td>\n",
       "      <td>1.0</td>\n",
       "      <td>1.0</td>\n",
       "      <td>3.0</td>\n",
       "      <td>120.0</td>\n",
       "      <td>50.000000</td>\n",
       "      <td>2.000000</td>\n",
       "      <td>0.5</td>\n",
       "    </tr>\n",
       "    <tr>\n",
       "      <th>75%</th>\n",
       "      <td>1.0</td>\n",
       "      <td>1.0</td>\n",
       "      <td>1.0</td>\n",
       "      <td>0.74500</td>\n",
       "      <td>100.000000</td>\n",
       "      <td>529.000000</td>\n",
       "      <td>1.0</td>\n",
       "      <td>0.0</td>\n",
       "      <td>0.0</td>\n",
       "      <td>0.0</td>\n",
       "      <td>0.0</td>\n",
       "      <td>1.0</td>\n",
       "      <td>1.0</td>\n",
       "      <td>3.0</td>\n",
       "      <td>120.0</td>\n",
       "      <td>50.000000</td>\n",
       "      <td>2.000000</td>\n",
       "      <td>0.5</td>\n",
       "    </tr>\n",
       "    <tr>\n",
       "      <th>max</th>\n",
       "      <td>1.0</td>\n",
       "      <td>1.0</td>\n",
       "      <td>1.0</td>\n",
       "      <td>0.96000</td>\n",
       "      <td>100.000000</td>\n",
       "      <td>2397.000000</td>\n",
       "      <td>1.0</td>\n",
       "      <td>0.0</td>\n",
       "      <td>0.0</td>\n",
       "      <td>0.0</td>\n",
       "      <td>0.0</td>\n",
       "      <td>1.0</td>\n",
       "      <td>1.0</td>\n",
       "      <td>3.0</td>\n",
       "      <td>120.0</td>\n",
       "      <td>50.000000</td>\n",
       "      <td>8.000000</td>\n",
       "      <td>0.5</td>\n",
       "    </tr>\n",
       "  </tbody>\n",
       "</table>\n",
       "</div>"
      ],
      "text/plain": [
       "       s_cr   s_c  s_ci     s_tim      s_choi       s_cons  s_sol  a_gap  \\\n",
       "count  11.0  11.0  11.0  11.00000   11.000000    11.000000   11.0   11.0   \n",
       "mean    1.0   1.0   1.0   0.68000   92.727273   698.818182    1.0    0.0   \n",
       "std     0.0   0.0   0.0   0.13914   24.120908   563.223192    0.0    0.0   \n",
       "min     1.0   1.0   1.0   0.46000   20.000000   529.000000    1.0    0.0   \n",
       "25%     1.0   1.0   1.0   0.60500  100.000000   529.000000    1.0    0.0   \n",
       "50%     1.0   1.0   1.0   0.66000  100.000000   529.000000    1.0    0.0   \n",
       "75%     1.0   1.0   1.0   0.74500  100.000000   529.000000    1.0    0.0   \n",
       "max     1.0   1.0   1.0   0.96000  100.000000  2397.000000    1.0    0.0   \n",
       "\n",
       "       a_low  a_sds  a_sd  v_lcf  v_nse  v_nsds  t_alen     t_aids      t_sym  \\\n",
       "count   11.0   11.0  11.0   11.0   11.0    11.0    11.0  11.000000  11.000000   \n",
       "mean     0.0    0.0   0.0    1.0    1.0     3.0   120.0  46.363636   2.545455   \n",
       "std      0.0    0.0   0.0    0.0    0.0     0.0     0.0  12.060454   1.809068   \n",
       "min      0.0    0.0   0.0    1.0    1.0     3.0   120.0  10.000000   2.000000   \n",
       "25%      0.0    0.0   0.0    1.0    1.0     3.0   120.0  50.000000   2.000000   \n",
       "50%      0.0    0.0   0.0    1.0    1.0     3.0   120.0  50.000000   2.000000   \n",
       "75%      0.0    0.0   0.0    1.0    1.0     3.0   120.0  50.000000   2.000000   \n",
       "max      0.0    0.0   0.0    1.0    1.0     3.0   120.0  50.000000   8.000000   \n",
       "\n",
       "       t_freq  \n",
       "count    11.0  \n",
       "mean      0.5  \n",
       "std       0.0  \n",
       "min       0.5  \n",
       "25%       0.5  \n",
       "50%       0.5  \n",
       "75%       0.5  \n",
       "max       0.5  "
      ]
     },
     "metadata": {},
     "execution_count": 5
    }
   ],
   "metadata": {}
  },
  {
   "cell_type": "markdown",
   "source": [
    "The above shows perfect reconstruction. So after this I'm going to ignore that data. Also let's make three data sets, one each for the three prior knowledge settings ('none' for no prior knowledge, 'half' for knowing half of the rows, 'all-but-one' for knowing every row except one)."
   ],
   "metadata": {}
  },
  {
   "cell_type": "code",
   "execution_count": 6,
   "source": [
    "dfTemp = dfAll.query(\"a_lab != 'None'\")\r\n",
    "dfTemp = dfTemp.query(\"a_pri != 'all'\")\r\n",
    "dfNone = dfTemp.query(\"a_pri == 'none'\")\r\n",
    "dfHalf = dfTemp.query(\"a_pri == 'half'\")\r\n",
    "dfNear = dfTemp.query(\"a_pri == 'all-but-one'\")"
   ],
   "outputs": [],
   "metadata": {}
  },
  {
   "cell_type": "markdown",
   "source": [
    "## Effect of random seed\r\n",
    "\r\n",
    "The following graphs explore the variation in individual solution runs. The data is for the same size of graph (three columns with three values each), but for 25 separate runs each with a different random seed."
   ],
   "metadata": {}
  },
  {
   "cell_type": "code",
   "execution_count": 7,
   "source": [
    "display(dfNone[['a_lab','a_low','a_sds','a_gap','a_sd']].drop_duplicates().sort_values(by=['a_sd']))"
   ],
   "outputs": [
    {
     "output_type": "display_data",
     "data": {
      "text/html": [
       "<div>\n",
       "<style scoped>\n",
       "    .dataframe tbody tr th:only-of-type {\n",
       "        vertical-align: middle;\n",
       "    }\n",
       "\n",
       "    .dataframe tbody tr th {\n",
       "        vertical-align: top;\n",
       "    }\n",
       "\n",
       "    .dataframe thead th {\n",
       "        text-align: right;\n",
       "    }\n",
       "</style>\n",
       "<table border=\"1\" class=\"dataframe\">\n",
       "  <thead>\n",
       "    <tr style=\"text-align: right;\">\n",
       "      <th></th>\n",
       "      <th>a_lab</th>\n",
       "      <th>a_low</th>\n",
       "      <th>a_sds</th>\n",
       "      <th>a_gap</th>\n",
       "      <th>a_sd</th>\n",
       "    </tr>\n",
       "  </thead>\n",
       "  <tbody>\n",
       "    <tr>\n",
       "      <th>3</th>\n",
       "      <td>P</td>\n",
       "      <td>2</td>\n",
       "      <td>1.0</td>\n",
       "      <td>2</td>\n",
       "      <td>1.0607</td>\n",
       "    </tr>\n",
       "    <tr>\n",
       "      <th>7</th>\n",
       "      <td>XP</td>\n",
       "      <td>2</td>\n",
       "      <td>1.5</td>\n",
       "      <td>3</td>\n",
       "      <td>1.5910</td>\n",
       "    </tr>\n",
       "    <tr>\n",
       "      <th>11</th>\n",
       "      <td>XXP</td>\n",
       "      <td>2</td>\n",
       "      <td>2.0</td>\n",
       "      <td>4</td>\n",
       "      <td>2.1213</td>\n",
       "    </tr>\n",
       "  </tbody>\n",
       "</table>\n",
       "</div>"
      ],
      "text/plain": [
       "   a_lab  a_low  a_sds  a_gap    a_sd\n",
       "3      P      2    1.0      2  1.0607\n",
       "7     XP      2    1.5      3  1.5910\n",
       "11   XXP      2    2.0      4  2.1213"
      ]
     },
     "metadata": {}
    }
   ],
   "metadata": {}
  },
  {
   "cell_type": "markdown",
   "source": [
    "The above shows the parameter settings for the different labels `a_lab`.  'P' means 'private', 'XP' means 'extra private', and 'XXP' means 'extra extra private'."
   ],
   "metadata": {}
  },
  {
   "cell_type": "code",
   "execution_count": 8,
   "source": [
    "dfTemp = dfNone.query('t_sym == 8 and t_aids == 100 and t_freq == 0.5')\r\n",
    "plt.figure(figsize=(6, 3))\r\n",
    "ax = sns.boxplot(x='a_lab',y='s_ci',data=dfTemp,hue='t_atkr')\r\n",
    "plt.xlabel('Strength of Anonymity',fontsize=13)\r\n",
    "plt.ylabel('Confidence Improvement (CI)',fontsize=12)\r\n",
    "ax.legend(loc='upper center', bbox_to_anchor=(0.5, 1.2), ncol=2)"
   ],
   "outputs": [
    {
     "output_type": "execute_result",
     "data": {
      "text/plain": [
       "<matplotlib.legend.Legend at 0x19bc60c5460>"
      ]
     },
     "metadata": {},
     "execution_count": 8
    },
    {
     "output_type": "display_data",
     "data": {
      "image/png": "[encoded data removed]",
      "text/plain": [
       "<Figure size 432x216 with 1 Axes>"
      ]
     },
     "metadata": {
      "needs_background": "light"
     }
    }
   ],
   "metadata": {}
  },
  {
   "cell_type": "markdown",
   "source": [
    "The above box plots are for individual (differently-seeded) experiments. This shows that there is substantial zzzz"
   ],
   "metadata": {}
  },
  {
   "cell_type": "code",
   "execution_count": 9,
   "source": [
    "dfTemp = dfAgg.query(\"a_lab != 'None'\")\r\n",
    "dfTemp = dfTemp.query(\"a_pri != 'all'\")\r\n",
    "dfAggNone = dfTemp.query(\"a_pri == 'none'\")\r\n",
    "dfAggHalf = dfTemp.query(\"a_pri == 'half'\")\r\n",
    "dfAggNear = dfTemp.query(\"a_pri == 'all-but-one'\")\r\n",
    "\r\n",
    "display(dfAggNone.head())"
   ],
   "outputs": [
    {
     "output_type": "display_data",
     "data": {
      "text/html": [
       "<div>\n",
       "<style scoped>\n",
       "    .dataframe tbody tr th:only-of-type {\n",
       "        vertical-align: middle;\n",
       "    }\n",
       "\n",
       "    .dataframe tbody tr th {\n",
       "        vertical-align: top;\n",
       "    }\n",
       "\n",
       "    .dataframe thead th {\n",
       "        text-align: right;\n",
       "    }\n",
       "</style>\n",
       "<table border=\"1\" class=\"dataframe\">\n",
       "  <thead>\n",
       "    <tr style=\"text-align: right;\">\n",
       "      <th></th>\n",
       "      <th>num</th>\n",
       "      <th>s_cr_av</th>\n",
       "      <th>s_cr_mn</th>\n",
       "      <th>s_cr_mx</th>\n",
       "      <th>s_cr_sd</th>\n",
       "      <th>s_c_av</th>\n",
       "      <th>s_c_mn</th>\n",
       "      <th>s_c_mx</th>\n",
       "      <th>s_c_sd</th>\n",
       "      <th>s_ci_av</th>\n",
       "      <th>...</th>\n",
       "      <th>v_nse</th>\n",
       "      <th>v_nsds_av</th>\n",
       "      <th>v_nsds_mn</th>\n",
       "      <th>v_nsds_mx</th>\n",
       "      <th>v_nsds_sd</th>\n",
       "      <th>t_alen</th>\n",
       "      <th>t_atkr</th>\n",
       "      <th>t_aids</th>\n",
       "      <th>t_sym</th>\n",
       "      <th>t_freq</th>\n",
       "    </tr>\n",
       "  </thead>\n",
       "  <tbody>\n",
       "    <tr>\n",
       "      <th>3</th>\n",
       "      <td>10</td>\n",
       "      <td>1.0</td>\n",
       "      <td>1.0</td>\n",
       "      <td>1.0</td>\n",
       "      <td>0.0</td>\n",
       "      <td>0.650000</td>\n",
       "      <td>0.400000</td>\n",
       "      <td>0.900000</td>\n",
       "      <td>0.191233</td>\n",
       "      <td>0.611111</td>\n",
       "      <td>...</td>\n",
       "      <td>1.0</td>\n",
       "      <td>3.9</td>\n",
       "      <td>3.0</td>\n",
       "      <td>4.0</td>\n",
       "      <td>0.316228</td>\n",
       "      <td>120</td>\n",
       "      <td>trusted</td>\n",
       "      <td>100</td>\n",
       "      <td>2</td>\n",
       "      <td>0.1</td>\n",
       "    </tr>\n",
       "    <tr>\n",
       "      <th>7</th>\n",
       "      <td>10</td>\n",
       "      <td>1.0</td>\n",
       "      <td>1.0</td>\n",
       "      <td>1.0</td>\n",
       "      <td>0.0</td>\n",
       "      <td>0.584545</td>\n",
       "      <td>0.272727</td>\n",
       "      <td>0.800000</td>\n",
       "      <td>0.188759</td>\n",
       "      <td>0.538384</td>\n",
       "      <td>...</td>\n",
       "      <td>1.0</td>\n",
       "      <td>3.3</td>\n",
       "      <td>3.0</td>\n",
       "      <td>4.0</td>\n",
       "      <td>0.483046</td>\n",
       "      <td>120</td>\n",
       "      <td>trusted</td>\n",
       "      <td>100</td>\n",
       "      <td>2</td>\n",
       "      <td>0.1</td>\n",
       "    </tr>\n",
       "    <tr>\n",
       "      <th>11</th>\n",
       "      <td>10</td>\n",
       "      <td>1.0</td>\n",
       "      <td>1.0</td>\n",
       "      <td>1.0</td>\n",
       "      <td>0.0</td>\n",
       "      <td>0.231212</td>\n",
       "      <td>0.100000</td>\n",
       "      <td>0.363636</td>\n",
       "      <td>0.077942</td>\n",
       "      <td>0.145791</td>\n",
       "      <td>...</td>\n",
       "      <td>1.0</td>\n",
       "      <td>3.0</td>\n",
       "      <td>3.0</td>\n",
       "      <td>3.0</td>\n",
       "      <td>0.000000</td>\n",
       "      <td>120</td>\n",
       "      <td>trusted</td>\n",
       "      <td>100</td>\n",
       "      <td>2</td>\n",
       "      <td>0.1</td>\n",
       "    </tr>\n",
       "    <tr>\n",
       "      <th>15</th>\n",
       "      <td>10</td>\n",
       "      <td>1.0</td>\n",
       "      <td>1.0</td>\n",
       "      <td>1.0</td>\n",
       "      <td>0.0</td>\n",
       "      <td>0.851582</td>\n",
       "      <td>0.780000</td>\n",
       "      <td>0.900000</td>\n",
       "      <td>0.041775</td>\n",
       "      <td>0.703164</td>\n",
       "      <td>...</td>\n",
       "      <td>1.0</td>\n",
       "      <td>4.0</td>\n",
       "      <td>4.0</td>\n",
       "      <td>4.0</td>\n",
       "      <td>0.000000</td>\n",
       "      <td>120</td>\n",
       "      <td>trusted</td>\n",
       "      <td>100</td>\n",
       "      <td>2</td>\n",
       "      <td>0.5</td>\n",
       "    </tr>\n",
       "    <tr>\n",
       "      <th>19</th>\n",
       "      <td>10</td>\n",
       "      <td>1.0</td>\n",
       "      <td>1.0</td>\n",
       "      <td>1.0</td>\n",
       "      <td>0.0</td>\n",
       "      <td>0.695506</td>\n",
       "      <td>0.580000</td>\n",
       "      <td>0.775510</td>\n",
       "      <td>0.058768</td>\n",
       "      <td>0.391012</td>\n",
       "      <td>...</td>\n",
       "      <td>1.0</td>\n",
       "      <td>4.0</td>\n",
       "      <td>4.0</td>\n",
       "      <td>4.0</td>\n",
       "      <td>0.000000</td>\n",
       "      <td>120</td>\n",
       "      <td>trusted</td>\n",
       "      <td>100</td>\n",
       "      <td>2</td>\n",
       "      <td>0.5</td>\n",
       "    </tr>\n",
       "  </tbody>\n",
       "</table>\n",
       "<p>5 rows × 46 columns</p>\n",
       "</div>"
      ],
      "text/plain": [
       "    num  s_cr_av  s_cr_mn  s_cr_mx  s_cr_sd    s_c_av    s_c_mn    s_c_mx  \\\n",
       "3    10      1.0      1.0      1.0      0.0  0.650000  0.400000  0.900000   \n",
       "7    10      1.0      1.0      1.0      0.0  0.584545  0.272727  0.800000   \n",
       "11   10      1.0      1.0      1.0      0.0  0.231212  0.100000  0.363636   \n",
       "15   10      1.0      1.0      1.0      0.0  0.851582  0.780000  0.900000   \n",
       "19   10      1.0      1.0      1.0      0.0  0.695506  0.580000  0.775510   \n",
       "\n",
       "      s_c_sd   s_ci_av  ...  v_nse  v_nsds_av  v_nsds_mn  v_nsds_mx  \\\n",
       "3   0.191233  0.611111  ...    1.0        3.9        3.0        4.0   \n",
       "7   0.188759  0.538384  ...    1.0        3.3        3.0        4.0   \n",
       "11  0.077942  0.145791  ...    1.0        3.0        3.0        3.0   \n",
       "15  0.041775  0.703164  ...    1.0        4.0        4.0        4.0   \n",
       "19  0.058768  0.391012  ...    1.0        4.0        4.0        4.0   \n",
       "\n",
       "    v_nsds_sd  t_alen   t_atkr  t_aids  t_sym  t_freq  \n",
       "3    0.316228     120  trusted     100      2     0.1  \n",
       "7    0.483046     120  trusted     100      2     0.1  \n",
       "11   0.000000     120  trusted     100      2     0.1  \n",
       "15   0.000000     120  trusted     100      2     0.5  \n",
       "19   0.000000     120  trusted     100      2     0.5  \n",
       "\n",
       "[5 rows x 46 columns]"
      ]
     },
     "metadata": {}
    }
   ],
   "metadata": {}
  },
  {
   "cell_type": "code",
   "execution_count": 10,
   "source": [
    "print(dfNone[['v_nsds','seed']].groupby(by='v_nsds').count())"
   ],
   "outputs": [
    {
     "output_type": "stream",
     "name": "stdout",
     "text": [
      "        seed\n",
      "v_nsds      \n",
      "3.0     1626\n",
      "4.0      591\n",
      "5.0       56\n",
      "7.0        7\n"
     ]
    }
   ],
   "metadata": {}
  },
  {
   "cell_type": "markdown",
   "source": [
    "The above tells us how many of the problems were solved with different values of `v_nsds`. This is the number of standard deviations plus or minus the noisy count within which the solver can assign a count. The smaller the `v_nsds`, the more accurate the solution and so the better the reconstruction."
   ],
   "metadata": {}
  },
  {
   "cell_type": "markdown",
   "source": [
    "## Attacks in U-Mode (Untrusted)"
   ],
   "metadata": {}
  },
  {
   "cell_type": "code",
   "execution_count": 11,
   "source": [
    "df2 = dfAgg.query('t_atkr == \"untrusted\" and a_pri != \"all\" and a_lab != \"None\"')\r\n",
    "ax2 = sns.boxplot(x='a_pri',y='s_ci_av',data=df2,hue='t_aids')\r\n",
    "ax2.set(ylabel = '', xlabel='Prior Knowledge')\r\n",
    "ax2.grid(axis='y')\r\n",
    "ax2.legend(title='Number Users',loc='upper center', bbox_to_anchor=(0.5, 1.2), ncol=3)"
   ],
   "outputs": [
    {
     "output_type": "execute_result",
     "data": {
      "text/plain": [
       "<matplotlib.legend.Legend at 0x19ba4d6ffd0>"
      ]
     },
     "metadata": {},
     "execution_count": 11
    },
    {
     "output_type": "display_data",
     "data": {
      "image/png": "[encoded data removed]",
      "text/plain": [
       "<Figure size 432x288 with 1 Axes>"
      ]
     },
     "metadata": {
      "needs_background": "light"
     }
    }
   ],
   "metadata": {}
  },
  {
   "cell_type": "markdown",
   "source": [
    "The above tells us that in any event having some prior knowledge doesn't really help the attacker. The median behavior is roughly the same, and the attacker doesn't know which attacks have better CI. So from now we can focus only on the case of no prior knowledge ('none')."
   ],
   "metadata": {}
  },
  {
   "cell_type": "code",
   "execution_count": 12,
   "source": [
    "df1 = dfAggNone.query('t_atkr == \"untrusted\"')\r\n",
    "fig, axes = plt.subplots(1,2,figsize=(15,4))\r\n",
    "ax1 = sns.boxplot(x='t_sym',y='s_ci_av',data=df1,hue='t_aids',ax=axes[0])\r\n",
    "ax2 = sns.boxplot(x='t_freq',y='s_ci_av',data=df1,hue='a_lab',ax=axes[1])\r\n",
    "ax1.set(ylabel = 'Confidence Improvement (CI)', xlabel='Num Symbols in AID')\r\n",
    "ax2.set(ylabel = '', xlabel='Value Frequency')\r\n",
    "#ax1.set(ylim=(0, 1))\r\n",
    "#ax2.set(ylim=(0, 1))\r\n",
    "ax1.grid(axis='y')\r\n",
    "ax2.grid(axis='y')\r\n",
    "ax1.legend(title='Number Users',loc='upper center', bbox_to_anchor=(0.5, 1.2), ncol=3)\r\n",
    "ax2.legend(title='Strength of Anonymity',loc='upper center', bbox_to_anchor=(0.5, 1.2), ncol=3)\r\n"
   ],
   "outputs": [
    {
     "output_type": "execute_result",
     "data": {
      "text/plain": [
       "<matplotlib.legend.Legend at 0x19bc81d55e0>"
      ]
     },
     "metadata": {},
     "execution_count": 12
    },
    {
     "output_type": "display_data",
     "data": {
      "image/png": "[encoded data removed]",
      "text/plain": [
       "<Figure size 1080x288 with 2 Axes>"
      ]
     },
     "metadata": {
      "needs_background": "light"
     }
    }
   ],
   "metadata": {}
  },
  {
   "cell_type": "markdown",
   "source": [
    "The above two plots tell us a number of things. First and foremost, the attack (in U-Mode) is not effective. The median score has CI barely above zero. Fewer symbols in the AIDs help a little but not much. Attacking more users helps only a little. Weaker anonymiztion strength helps only a little. Attacking a more frequent value helps only a little."
   ],
   "metadata": {}
  },
  {
   "cell_type": "code",
   "execution_count": 13,
   "source": [
    "\r\n",
    "df1 = dfAggNear.query('t_atkr == \"untrusted\"')\r\n",
    "fig, axes = plt.subplots(1,2,figsize=(15,4))\r\n",
    "ax1 = sns.boxplot(x='t_sym',y='s_ci_av',data=df1,hue='t_aids',ax=axes[0])\r\n",
    "ax2 = sns.boxplot(x='t_freq',y='s_ci_av',data=df1,hue='a_lab',ax=axes[1])\r\n",
    "ax1.set(ylabel = 'Confidence Improvement (CI)', xlabel='Num Symbols in AID')\r\n",
    "ax2.set(ylabel = '', xlabel='Value Frequency')\r\n",
    "#ax1.set(ylim=(0, 1))\r\n",
    "#ax2.set(ylim=(0, 1))\r\n",
    "ax1.grid(axis='y')\r\n",
    "ax2.grid(axis='y')\r\n",
    "ax1.legend(title='Number Users',loc='upper center', bbox_to_anchor=(0.5, 1.2), ncol=3)\r\n",
    "ax2.legend(title='Strength of Anonymity',loc='upper center', bbox_to_anchor=(0.5, 1.2), ncol=3)\r\n"
   ],
   "outputs": [
    {
     "output_type": "execute_result",
     "data": {
      "text/plain": [
       "<matplotlib.legend.Legend at 0x19bc85ee490>"
      ]
     },
     "metadata": {},
     "execution_count": 13
    },
    {
     "output_type": "display_data",
     "data": {
      "image/png": "[encoded data removed]",
      "text/plain": [
       "<Figure size 1080x288 with 2 Axes>"
      ]
     },
     "metadata": {
      "needs_background": "light"
     }
    }
   ],
   "metadata": {}
  },
  {
   "cell_type": "code",
   "execution_count": 14,
   "source": [
    "fig, axes = plt.subplots(1,1,figsize=(5,4))\r\n",
    "ax = sns.scatterplot(data=dfNone, x=\"s_c\", y=\"s_ci\",hue='a_lab',style='t_freq')"
   ],
   "outputs": [
    {
     "output_type": "display_data",
     "data": {
      "image/png": "[encoded data removed]",
      "text/plain": [
       "<Figure size 360x288 with 1 Axes>"
      ]
     },
     "metadata": {
      "needs_background": "light"
     }
    }
   ],
   "metadata": {}
  },
  {
   "cell_type": "markdown",
   "source": [
    "The above plot (confidence improvement against confidence) simply confirms that CI is a constant factor (0.5 or 0.1 depend on the value frequency) of C."
   ],
   "metadata": {}
  },
  {
   "cell_type": "markdown",
   "source": [
    "## Trusted Mode\r\n",
    "\r\n",
    "Now let's look at the attack effectiveness in trusted mode. IMPORTANT: because trusted mode, we assume that an analyst won't accidently make the set of queries required. Never-the-less we should know."
   ],
   "metadata": {}
  },
  {
   "cell_type": "code",
   "execution_count": 15,
   "source": [
    "df1 = dfAggNone.query('t_atkr == \"trusted\"')\r\n",
    "fig, axes = plt.subplots(1,2,figsize=(15,4))\r\n",
    "ax1 = sns.boxplot(x='t_sym',y='s_ci_av',data=df1,hue='t_aids',ax=axes[0])\r\n",
    "ax2 = sns.boxplot(x='t_freq',y='s_ci_av',data=df1,hue='a_lab',ax=axes[1])\r\n",
    "ax1.set(ylabel = 'Confidence Improvement (CI)', xlabel='Num Symbols in AID')\r\n",
    "ax2.set(ylabel = '', xlabel='Value Frequency')\r\n",
    "#ax1.set(ylim=(0, 1))\r\n",
    "#ax2.set(ylim=(0, 1))\r\n",
    "ax1.grid(axis='y')\r\n",
    "ax2.grid(axis='y')\r\n",
    "ax1.legend(title='Number Users',loc='upper center', bbox_to_anchor=(0.5, 1.2), ncol=3)\r\n",
    "ax2.legend(title='Strength of Anonymity',loc='upper center', bbox_to_anchor=(0.5, 1.2), ncol=3)"
   ],
   "outputs": [
    {
     "output_type": "execute_result",
     "data": {
      "text/plain": [
       "<matplotlib.legend.Legend at 0x19bc8833af0>"
      ]
     },
     "metadata": {},
     "execution_count": 15
    },
    {
     "output_type": "display_data",
     "data": {
      "image/png": "[encoded data removed]",
      "text/plain": [
       "<Figure size 1080x288 with 2 Axes>"
      ]
     },
     "metadata": {
      "needs_background": "light"
     }
    }
   ],
   "metadata": {}
  },
  {
   "cell_type": "markdown",
   "source": [
    "The above plots show the effectiveness of a malaicious attack while in trusted mode. Contrary to untrusted mode, the attacker can reach very good CI. The two plots show the effect of various experimental parameters.\r\n",
    "\r\n",
    "Each whisker bar in the above plots gives CI over a range of experimental parameters while holding two such parameters constant. For instance, the left-most whisker bar shows the results where the number of symbols in the AID is 2 and there are 10 users being attacked, while the other parameters (strength of anonymity and value frequency) vary. The idea here is simply to show the overall effect of each parameter.\r\n",
    "\r\n",
    "On the left, we see that the attacker can in general improve CI by attacking more users, but how many users depends on the number of symbols per character in the AID. (Two symbols would be an AID like '01101011', 8 symbols would be like '04726625'.) Note, however, that in this attack the substring width was always 1, so with 2 symbols the attacker could mimic 8 symbols by increasing the substring width to 3.\r\n",
    "\r\n",
    "On the right, we see that stronger anonymity (more noise, higher suppression threshold) leads to lower CI, but in any event the attacker can get very high and even perfect CI under some attack conditions."
   ],
   "metadata": {}
  },
  {
   "cell_type": "code",
   "execution_count": 16,
   "source": [
    "df1 = dfAggNone.query('t_atkr == \"trusted\" and t_aids == 200 and t_sym == 8 and t_freq == 0.5')\r\n",
    "fig, axes = plt.subplots(1,1,figsize=(6,4))\r\n",
    "ax1 = sns.lineplot(x='t_alen',y='s_ci_av',data=df1,hue='a_lab')\r\n",
    "ax1.set(ylabel = 'Confidence Improvement (CI)', xlabel='Length of Random Value')\r\n",
    "ax1.legend(title='Anonymization Strength',loc='upper center', bbox_to_anchor=(0.5, 1.2), ncol=3)\r\n",
    "ax1.grid(axis='y')"
   ],
   "outputs": [
    {
     "output_type": "display_data",
     "data": {
      "image/png": "[encoded data removed]",
      "text/plain": [
       "<Figure size 432x288 with 1 Axes>"
      ]
     },
     "metadata": {
      "needs_background": "light"
     }
    }
   ],
   "metadata": {}
  },
  {
   "cell_type": "markdown",
   "source": [
    "The above graph shows CI at each anonymization strength for different lengths of the random value. The longer the value, the more randomness is available to the attacker, and so the better the CI. Note that the length of random value here would be for all columns with randomness, not just one. So if there are two columns with random values of length 10 each, this would be identical to one column of length 20. \r\n",
    "\r\n",
    "The above graph has 200 attacked users, a value frequency of 0.5, and 8 symbols per random value character (these are relatively good conditions for the attacker). We see that when there are relatively few characters in the random value, the attack is not effective. In other words, if the data has little or no randomness, then this attack is not possible."
   ],
   "metadata": {}
  },
  {
   "cell_type": "markdown",
   "source": [
    "## Appendix A: Operation of Basic Linear Reconstruction Attack\r\n",
    "\r\n",
    "This attack is similar to the original Nissim attack from 2003. It assumes knowledge of the set of random values representing the individuals being attacked (`random_col`). The attacker wants to learn the value attributed to each user from another column (`unknown_col`).  We also assume that the LR attacker knows the anonymizer parameters (LCF bounds and noise SD). Finally, we assume the attacker knows the possible set of values in `random_col` so that the attacker knows when suppression has taken place.\r\n",
    "\r\n",
    "Each query requests the count of distinct AIDs, and returns either a noisy count or a suppression indication. Constraints are generated from these answers.\r\n",
    "\r\n",
    "A typical query (here for two column dimensions) is:\r\n",
    "\r\n",
    "```\r\n",
    "SELECT SUBSTRING(random_col,1,3), unknown_col, count(DISTINCT aid)\r\n",
    "FROM table\r\n",
    "GROUP BY 1,2\r\n",
    "```\r\n",
    "\r\n",
    "This query returns zero or more buckets with noisy counts. Because the attacker knows the values of `random_col`, the attacker also knows which users are in the set of buckets for all values of `unknown_col` taken together.\r\n",
    "\r\n",
    "For instance, suppose that `random_col` consists of the characters a and b, and that `unknown_col` consists of the values y and z. Then the answer to the above query may look like:\r\n",
    "\r\n",
    "| random | unknown | count |\r\n",
    "| --- | --- | ---\r\n",
    "| a | y | 33 |\r\n",
    "| a | z | 3 |\r\n",
    "| b | y | 42 |\r\n",
    "\r\n",
    "The attacker know which users have random values a and b (in the third character position of `random_col`), but not which `unknown_col` values are assigned to each user. The attacker also knows in this case that the bucket for a|z has been suppressed.\r\n",
    "\r\n",
    "The attacker creates a set of two variables per user, one representing the user having unknown value y, and one representing the user having unknown value z. There is one such variable per user per possible unknown value. Each of the variables is binary, and so can take on either value 0 (False) or 1 (True).\r\n",
    "\r\n",
    "With multiple outputs like this, the attacker generates a set of constraints:\r\n",
    "\r\n",
    "1. The sum of each users' variables is 1. (The user has either value y or value z, not both.)\r\n",
    "2. For all users in a given unsuppressed bucket, the sum of the associated variables is in a range above and below the noisy count (we use 2 standard deviations).\r\n",
    "3. For all users in a suppressed bucket, the sum of the associated variables is in a range from `low_count` (the lowest possible value) to 2 standard deviations above the mean suppression threshold.\r\n",
    "\r\n",
    "The attacker then solves for these constraints."
   ],
   "metadata": {}
  },
  {
   "cell_type": "markdown",
   "source": [
    "## Appendix B: Column Definitions"
   ],
   "metadata": {}
  },
  {
   "cell_type": "code",
   "execution_count": 17,
   "source": [
    "display(dfAll.columns)"
   ],
   "outputs": [
    {
     "output_type": "display_data",
     "data": {
      "text/plain": [
       "Index(['seed', 's_cr', 's_c', 's_ci', 's_tim', 's_choi', 's_cons', 's_sol',\n",
       "       'a_gap', 'a_lab', 'a_low', 'a_pri', 'a_sds', 'a_sd', 'v_lcf', 'v_nse',\n",
       "       'v_nsds', 't_alen', 't_atkr', 't_aids', 't_sym', 't_freq'],\n",
       "      dtype='object')"
      ]
     },
     "metadata": {}
    }
   ],
   "metadata": {}
  },
  {
   "cell_type": "markdown",
   "source": [
    "Above are the columns in the experiment data. They are described below.\r\n",
    "\r\n",
    "### General experimental Parameters\r\n",
    "* *t_alen*: The number of characters in the AID (the random column)\r\n",
    "* *t_aids*: The number of AIDs (distinct users) being attacked\r\n",
    "* *t_atkr*: Whether we are simulating trusted or untrusted mode\r\n",
    "* *t_sym*: The number of symbols per character in the AID\r\n",
    "* *t_freq*: The frequency at which the unknown variable exists in the data\r\n",
    "\r\n",
    "### Anonymization Parameters\r\n",
    "* *a_lab*: A label denoting anonymization strength (P, XP, or XXP, or None if no anonymization)\r\n",
    "* *a_low*: The low threshold for suppression\r\n",
    "* *a_gap*: The number of standard deviations between `a_low` and the mean suppression threshold\r\n",
    "* *a_sds*: The standard deviation for the suppression threshold noise\r\n",
    "* *a_sd*: The standard deviation of added noise.\r\n",
    "\r\n",
    "### Solution parameters\r\n",
    "* *v_lcf*: The fraction of the LCF threshold range that is penalty-free if elastic constraints used.\r\n",
    "* *v_nse*: The fraction of the noise constraints range that is penalty-free if elastic constraints used.\r\n",
    "* *v_nsds*: The number of standard deviations to use as the constraints range for noise (the constraints range is `v_nsds * a_sd`)\r\n",
    "\r\n",
    "### Solution results\r\n",
    "#### Solution quality measures\r\n",
    "* *s_ci*: Confidence Improvement CI\r\n",
    "* *s_cr*: Claim Rate CR\r\n",
    "* *s_c*: Confidence\r\n",
    "* *s_tim*: The length of time for the solver\r\n",
    "* *s_sol*: Whether or not the solver found a solution (always 1)\r\n",
    "\r\n",
    "All of the numeric parameters from the above are summarized in groups with the same experimental parameters but different seeds. Each parameter is summarized with average, min, max, and standard deviation (i.e. s_ci has s_ci_av, s_ci_mn, s_ci_mx, and s_ci_sd).\r\n"
   ],
   "metadata": {}
  },
  {
   "cell_type": "code",
   "execution_count": 18,
   "source": [
    "display(dfAgg.columns)"
   ],
   "outputs": [
    {
     "output_type": "display_data",
     "data": {
      "text/plain": [
       "Index(['num', 's_cr_av', 's_cr_mn', 's_cr_mx', 's_cr_sd', 's_c_av', 's_c_mn',\n",
       "       's_c_mx', 's_c_sd', 's_ci_av', 's_ci_mn', 's_ci_mx', 's_ci_sd',\n",
       "       's_tim_av', 's_tim_mn', 's_tim_mx', 's_tim_sd', 's_choi_av',\n",
       "       's_choi_mn', 's_choi_mx', 's_choi_sd', 's_cons_av', 's_cons_mn',\n",
       "       's_cons_mx', 's_cons_sd', 's_sol_av', 's_sol_mn', 's_sol_mx',\n",
       "       's_sol_sd', 'a_gap', 'a_lab', 'a_low', 'a_pri', 'a_sds', 'a_sd',\n",
       "       'v_lcf', 'v_nse', 'v_nsds_av', 'v_nsds_mn', 'v_nsds_mx', 'v_nsds_sd',\n",
       "       't_alen', 't_atkr', 't_aids', 't_sym', 't_freq'],\n",
       "      dtype='object')"
      ]
     },
     "metadata": {}
    }
   ],
   "metadata": {}
  }
 ]
}